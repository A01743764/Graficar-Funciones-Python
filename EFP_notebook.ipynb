{
  "cells": [
    {
      "cell_type": "markdown",
      "metadata": {
        "id": "i9ChDOf5zaas"
      },
      "source": [
        "# Evaluador de Funciones Básico\n",
        "### Jesús Oscar Flores Cota - A01743764\n"
      ]
    },
    {
      "cell_type": "markdown",
      "metadata": {
        "id": "WvwXBkYP0UOC"
      },
      "source": [
        "En este evaluador de funciones es posible conocer los valores y gráficas, dados los respectivos datos, de las siguientes funciones:\n",
        "\n",
        "Función Lineal: $$f(x) = mx + b$$\n",
        "\n",
        "Función Cuadrática: $$f(x) = ax^2 + bx + c$$\n",
        "\n",
        "Función Cúbica: $$f(x) = ax^3 + bx^2 + cx + d$$\n",
        "\n",
        "Función Exponencial: $$f(x) = a^x$$\n",
        "\n",
        "Función Logarítmica: $$f(x) = log_a(x)$$\n",
        "\n",
        "Función Racional: $$f(x) = \\frac{a}{bx}$$\n",
        "\n",
        "Funciones de Raíz: $$f(x) = \\sqrt[n]{x}$$"
      ]
    },
    {
      "cell_type": "code",
      "execution_count": null,
      "metadata": {
        "colab": {
          "background_save": true
        },
        "collapsed": true,
        "id": "7Co_639LzUKP"
      },
      "outputs": [],
      "source": [
        "#Importación de librerías y encontrar el tipo de función a evaluar\n",
        "import numpy as np\n",
        "import matplotlib.pyplot as plt\n",
        "import math\n",
        "#EL ARCHIVO DE REGISTRO SE GUARDA UNA VEZ SE CIERRA LA IMAGEN (en caso de usar thonny)\n",
        "print(\"Bienvenido al evaluador de funciones, en el archivo registro.txt \\nse encuentran las funciones que haz evaluado.\")\n",
        "tipo_funcion = int(input(\"¿Qué tipo de función desea evaluar? \\nLineal = 1\\nCuadratica = 2\\nCubica = 3\\nExponencial = 4\\nLogarítmica = 5\\nRacional = 6\\nRaíz = 7\\n\\n\"))\n",
        "#Asegurarse de que se inserta el número correcto\n",
        "if (tipo_funcion > 7) or (tipo_funcion < 1):\n",
        "  print(\"Opción no válida\")"
      ]
    },
    {
      "cell_type": "markdown",
      "metadata": {
        "id": "6qeGPitvGjoO"
      },
      "source": [
        "###Bloque de funcion lineal"
      ]
    },
    {
      "cell_type": "code",
      "execution_count": null,
      "metadata": {
        "collapsed": true,
        "id": "EYb1tiUi6si9"
      },
      "outputs": [],
      "source": [
        "#Bloque de Función Lineal\n",
        "def func_lin():\n",
        "  f = open(\"registro.txt\", \"a\")\n",
        "  vls_x = []\n",
        "  vls_y = []\n",
        "\n",
        "  print(\"La función lineal cumple con la ecuación general:\\nf(x) = mx + b\\n\")\n",
        "  m = float(input(\"Ingrese el valor de m: \"))\n",
        "  b = float(input(\"Ingrese el valor de b: \"))\n",
        "  print(\"\\nLa función lineal es:\\nf(x) = \",m,\"x + \",b)\n",
        "  fx=\"f(x) = \"+str(m)+\"x + \"+str(b)+\"\\n\\n\"\n",
        "  f.write(fx)\n",
        "\n",
        "  #Saber los valores iniciales y finales y cuanto paso va a haber para la evaluación\n",
        "\n",
        "  val1 = float(input(\"\\nIngrese el valor inferior para evaluar: \"))\n",
        "  val2 = float(input(\"Ingrese el valor superior: \"))\n",
        "  intervalo = float(input(\"Ingrese el intervalo: \"))\n",
        "\n",
        "  #Evalúa los valores de X y Y, en caso de que el valor uno sea mayor no vuelve a pedir los datos, solo los invierte\n",
        "  if val1 > val2:\n",
        "    while val2 <= val1:\n",
        "      vls_x.append(val2)\n",
        "      vls_y.append(m*val2 + b)\n",
        "      val2 += intervalo\n",
        "    print(\"Los valores de x son: \", vls_x)\n",
        "    print(\"Los valores de y son: \", vls_y)\n",
        "  elif val1 < val2:\n",
        "    while val1 <= val2:\n",
        "      vls_x.append(val1)\n",
        "      vls_y.append(m*val1 + b)\n",
        "      val1 += intervalo\n",
        "    print(\"Los valores de x son: \", vls_x)\n",
        "    print(\"Los valores de y son: \", vls_y)\n",
        "  plt.plot(vls_x, vls_y)\n",
        "  plt.savefig('lineal.png')\n",
        "  plt.show()\n"
      ]
    },
    {
      "cell_type": "markdown",
      "metadata": {
        "id": "kOMcDWuqGeQN"
      },
      "source": [
        "###Bloque de funcion cuadratica"
      ]
    },
    {
      "cell_type": "code",
      "execution_count": null,
      "metadata": {
        "collapsed": true,
        "id": "oSNZfJ1-Drpm"
      },
      "outputs": [],
      "source": [
        "#Bloque de funcion cuadratica\n",
        "def func_cua():\n",
        "  file = open(\"registro.txt\", \"a\")\n",
        "  vls_x = []\n",
        "  vls_y = []\n",
        "\n",
        "  print(\"La función cuadratica cumple con la ecuación general:\\nf(x) = ax^2 + bx + c\\n\")\n",
        "  a = float(input(\"Ingrese el valor de a: \"))\n",
        "  b = float(input(\"Ingrese el valor de b: \"))\n",
        "  c = float(input(\"Ingrese el valor de c: \"))\n",
        "  print(\"\\nLa función cuadrática es:\\nf(x) = \",a,\"x^2 + \",b,\"x + \",c)\n",
        "  fx=\"f(x) = \"+str(a)+\"x^2 + \"+str(b)+\"x + \"+str(c)+\"\\n\\n\"\n",
        "  f.write(fx)\n",
        "\n",
        "  #Saber los valores iniciales y finales y cuanto paso va a haber para la evaluación\n",
        "\n",
        "  val1 = float(input(\"\\nIngrese el valor inferior para evaluar: \"))\n",
        "  val2 = float(input(\"Ingrese el valor superior: \"))\n",
        "  intervalo = float(input(\"Ingrese el intervalo: \"))\n",
        "\n",
        "  #Evalúa los valores de X y Y, en caso de que el valor uno sea mayor no vuelve a pedir los datos, solo los invierte\n",
        "  if val1 > val2:\n",
        "    while val2 <= val1:\n",
        "      vls_x.append(val2)\n",
        "      vls_y.append(a*math.pow(val2,2) + b*val2 + c)\n",
        "      val2 += intervalo\n",
        "    print(\"Los valores de x son: \", vls_x)\n",
        "    print(\"Los valores de y son: \", vls_y)\n",
        "  elif val1 < val2:\n",
        "    while val1 <= val2:\n",
        "      vls_x.append(val1)\n",
        "      vls_y.append(a*math.pow(val1,2) + b*val2 + c)\n",
        "      val1 += intervalo\n",
        "    print(\"Los valores de x son: \", vls_x)\n",
        "    print(\"Los valores de y son: \", vls_y)\n",
        "  plt.plot(vls_x, vls_y)\n",
        "  plt.savefig('cuadratica.png')\n",
        "  plt.show()"
      ]
    },
    {
      "cell_type": "markdown",
      "metadata": {
        "id": "lT_rnlp1GrNI"
      },
      "source": [
        "###Bloque de funcion Cúbica"
      ]
    },
    {
      "cell_type": "code",
      "execution_count": null,
      "metadata": {
        "id": "IxMmv9YJGp_P"
      },
      "outputs": [],
      "source": [
        "#Bloque de funcion cubica\n",
        "def func_cubi():\n",
        "  f = open(\"registro.txt\", \"a\")\n",
        "  vls_x = []\n",
        "  vls_y = []\n",
        "\n",
        "  print(\"La función cubica cumple con la ecuación general:\\nf(x) = ax^3 + bx^2 + cx + d\\n\")\n",
        "  a = float(input(\"Ingrese el valor de a: \"))\n",
        "  b = float(input(\"Ingrese el valor de b: \"))\n",
        "  c = float(input(\"Ingrese el valor de c: \"))\n",
        "  d = float(input(\"Ingrese el valor de d: \"))\n",
        "  print(\"\\nLa función cuadrática es:\\nf(x) = \",a,\"x^3 + \",b,\"x^2 + \",c,\"x + \",d)\n",
        "  fx=\"f(x) = \"+str(a)+\"x^3 + \"+str(b)+\"x^2 + \"+str(c)+\"x + \"+str(d)+\"\\n\\n\"\n",
        "  f.write(fx)\n",
        "\n",
        "  #Saber los valores iniciales y finales y cuanto paso va a haber para la evaluación\n",
        "\n",
        "  val1 = float(input(\"\\nIngrese el valor inferior para evaluar: \"))\n",
        "  val2 = float(input(\"Ingrese el valor superior: \"))\n",
        "  intervalo = float(input(\"Ingrese el intervalo: \"))\n",
        "\n",
        "  #Evalúa los valores de X y Y, en caso de que el valor uno sea mayor no vuelve a pedir los datos, solo los invierte\n",
        "  if val1 > val2:\n",
        "    while val2 <= val1:\n",
        "      vls_x.append(val2)\n",
        "      vls_y.append(a*math.pow(val2,3) + b*math.pow(val2,2) + c*val2 + d)\n",
        "      val2 += intervalo\n",
        "    print(\"Los valores de x son: \", vls_x)\n",
        "    print(\"Los valores de y son: \", vls_y)\n",
        "  elif val1 < val2:\n",
        "    while val1 <= val2:\n",
        "      vls_x.append(val1)\n",
        "      vls_y.append(a*math.pow(val1,3) + b*math.pow(val1,2) + c*val1 + d)\n",
        "      val1 += intervalo\n",
        "    print(\"Los valores de x son: \", vls_x)\n",
        "    print(\"Los valores de y son: \", vls_y)\n",
        "  plt.plot(vls_x, vls_y)\n",
        "  plt.savefig('cubica.png')\n",
        "  plt.show()"
      ]
    },
    {
      "cell_type": "markdown",
      "metadata": {
        "id": "IY9LG9X9I89N"
      },
      "source": [
        "###Bloque de Función Exponencial"
      ]
    },
    {
      "cell_type": "code",
      "execution_count": null,
      "metadata": {
        "id": "1zJX2whkJA2P"
      },
      "outputs": [],
      "source": [
        "#Bloque de funcion exponencial\n",
        "def func_exp():\n",
        "  f = open(\"registro.txt\", \"a\")\n",
        "  vls_x = []\n",
        "  vls_y = []\n",
        "\n",
        "  print(\"La función exponencial cumple con la ecuación general:\\nf(x) = a^x\")\n",
        "  a = float(input(\"Ingrese el valor de a: \"))\n",
        "  print(\"\\nLa función cuadrática es:\\nf(x) = \",a,\"^x\")\n",
        "  fx=\"f(x) = \"+str(a)+\"^x\"+\"\\n\\n\"\n",
        "  f.write(fx)\n",
        "\n",
        "  #Saber los valores iniciales y finales y cuanto paso va a haber para la evaluación\n",
        "\n",
        "  val1 = float(input(\"\\nIngrese el valor inferior para evaluar: \"))\n",
        "  val2 = float(input(\"Ingrese el valor superior: \"))\n",
        "  intervalo = float(input(\"Ingrese el intervalo: \"))\n",
        "\n",
        "  #Evalúa los valores de X y Y, en caso de que el valor uno sea mayor no vuelve a pedir los datos, solo los invierte\n",
        "  if val1 > val2:\n",
        "    while val2 <= val1:\n",
        "      vls_x.append(val2)\n",
        "      vls_y.append(math.pow(a,val2))\n",
        "      val2 += intervalo\n",
        "    print(\"Los valores de x son: \", vls_x)\n",
        "    print(\"Los valores de y son: \", vls_y)\n",
        "  elif val1 < val2:\n",
        "    while val1 <= val2:\n",
        "      vls_x.append(val1)\n",
        "      vls_y.append(math.pow(a,val1))\n",
        "      val1 += intervalo\n",
        "    print(\"Los valores de x son: \", vls_x)\n",
        "    print(\"Los valores de y son: \", vls_y)\n",
        "  plt.plot(vls_x, vls_y)\n",
        "  plt.savefig('exp.png')\n",
        "  plt.show()"
      ]
    },
    {
      "cell_type": "markdown",
      "metadata": {
        "id": "mKxfo0RxLJkw"
      },
      "source": [
        "###Bloque de Función logaritmo"
      ]
    },
    {
      "cell_type": "code",
      "execution_count": null,
      "metadata": {
        "id": "LuDX-9xKKwVx"
      },
      "outputs": [],
      "source": [
        "def func_log():\n",
        "    f = open(\"registro.txt\", \"a\")\n",
        "    vls_x = []\n",
        "    vls_y = []\n",
        "\n",
        "    print(\"La funcion logarítmica cumple con la ecuación general:\\nf(x) = log_a(x)\")\n",
        "    a = float(input(\"Ingrese el valor de a: \"))\n",
        "\n",
        "    while a <= 0 or a == 1:\n",
        "        print(\"El valor de a debe ser mayor que 0 y diferente de 1\")\n",
        "        a = float(input(\"Ingresa el valor de a de nuevo: \"))\n",
        "    print(\"\\nLa funcion logarítmica es:\\nf(x) = log_\",a,\"(x)\")\n",
        "    fx=\"f(x) = log_\"+str(a)+\"(x)\"+\"\\n\\n\"\n",
        "    f.write(fx)\n",
        "\n",
        "    #Saber los valores iniciales y finales y cuanto paso va a haber para la evaluación\n",
        "    val1 = float(input(\"\\nIngrese el valor inferior para evaluar (mayor que 0): \"))\n",
        "    val2 = float(input(\"Ingrese el valor superior: \"))\n",
        "    intervalo = float(input(\"Ingrese el intervalo: \"))\n",
        "\n",
        "    if val1 <= 0:\n",
        "        print(\"El valor inferior debe ser mayor que 0. Ajustando val1 a 0.1\")\n",
        "        val1 = 0.1\n",
        "    if val1 > val2:\n",
        "        while val2 <= val1:\n",
        "            if val2 > 0:\n",
        "                vls_x.append(val2)\n",
        "                vls_y.append(math.log(val2, a))\n",
        "            val2 += intervalo\n",
        "    else:\n",
        "        while val1 <= val2:\n",
        "            if val1 > 0:\n",
        "                vls_x.append(val1)\n",
        "                vls_y.append(math.log(val1, a))\n",
        "            val1 += intervalo\n",
        "\n",
        "    print(\"Los valores de x son: \", vls_x)\n",
        "    print(\"Los valores de y son: \", vls_y)\n",
        "    plt.plot(vls_x, vls_y)\n",
        "    plt.savefig('log.png')\n",
        "    plt.show()\n"
      ]
    },
    {
      "cell_type": "markdown",
      "metadata": {
        "id": "UZt-d7xtSYjZ"
      },
      "source": [
        "###Bloque de Función Raíz"
      ]
    },
    {
      "cell_type": "code",
      "execution_count": null,
      "metadata": {
        "id": "_ifDHsMuSbyr"
      },
      "outputs": [],
      "source": [
        "#Bloque de funcion raiz\n",
        "def func_raiz():\n",
        "    f = open(\"registro.txt\", \"a\")\n",
        "    vls_x = []\n",
        "    vls_y = []\n",
        "    print(\"La función raíz cumple con la ecuación general:\\nf(x) = (x)^1/n\")\n",
        "    n = float(input(\"Ingrese el valor de n: \"))\n",
        "    print(\"\\nLa función raíz es:\\nf(x) = x^1/\", n)\n",
        "    fx=\"f(x) = x^1/\"+str(n)+\"\\n\\n\"\n",
        "    f.write(fx)\n",
        "\n",
        "    # Saber los valores iniciales y finales y cuánto paso va a haber para la evaluación\n",
        "    val1 = float(input(\"\\nIngrese el valor inferior para evaluar: \"))\n",
        "    val2 = float(input(\"Ingrese el valor superior: \"))\n",
        "    intervalo = float(input(\"Ingrese el intervalo: \"))\n",
        "\n",
        "    # Evalúa los valores de X y Y, en caso de que el valor uno sea mayor no vuelve a pedir los datos, solo los invierte\n",
        "    if val1 > val2:\n",
        "        while val2 <= val1:\n",
        "          #Aquí se asegura de que si la función es par, omita los números negativos\n",
        "            if n % 2 == 0 and val2 < 0:\n",
        "                val2 += intervalo\n",
        "                continue\n",
        "            vls_x.append(val2)\n",
        "            vls_y.append(math.pow(val2, 1/n))\n",
        "            val2 += intervalo\n",
        "        print(\"Los valores de x son: \", vls_x)\n",
        "        print(\"Los valores de y son: \", vls_y)\n",
        "    elif val1 < val2:\n",
        "        while val1 <= val2:\n",
        "            if n % 2 == 0 and val1 < 0:\n",
        "                val1 += intervalo\n",
        "                continue\n",
        "            vls_x.append(val1)\n",
        "            vls_y.append(math.pow(val1, 1/n))\n",
        "            val1 += intervalo\n",
        "        print(\"Los valores de x son: \", vls_x)\n",
        "        print(\"Los valores de y son: \", vls_y)\n",
        "    plt.plot(vls_x, vls_y)\n",
        "    plt.savefig('raiz.png')\n",
        "    plt.show()"
      ]
    },
    {
      "cell_type": "markdown",
      "metadata": {
        "id": "edjV0OX7Q07M"
      },
      "source": [
        "###Bloque de Función Racional\n"
      ]
    },
    {
      "cell_type": "code",
      "execution_count": null,
      "metadata": {
        "id": "btIUc80RQ5sj"
      },
      "outputs": [],
      "source": [
        "#Bloque de funcion racional\n",
        "def func_rac():\n",
        "  f = open(\"registro.txt\", \"a\")\n",
        "  vls_x = []\n",
        "  vls_y = []\n",
        "\n",
        "  print(\"La función racional cumple con la ecuación:\\nf(x) = a/bx\")\n",
        "  a = float(input(\"Ingrese el valor de a: \"))\n",
        "  b = float(input(\"Ingrese el valor de b: \"))\n",
        "  print(\"\\nLa función racional es:\\nf(x) = \",a,\"/\",b,\"x\")\n",
        "  fx=\"f(x) = \"+str(a)+\"/\"+str(b)+\"x\"+\"\\n\\n\"\n",
        "  f.write(fx)\n",
        "\n",
        "  #Saber los valores iniciales y finales y cuanto paso va a haber para la evaluación\n",
        "\n",
        "  val1 = float(input(\"\\nIngrese el valor inferior para evaluar: \"))\n",
        "  val2 = float(input(\"Ingrese el valor superior: \"))\n",
        "  intervalo = float(input(\"Ingrese el intervalo: \"))\n",
        "\n",
        "  #Evalúa los valores de X y Y, en caso de que el valor uno sea mayor no vuelve a pedir los datos, solo los invierte\n",
        "  if val1 > val2:\n",
        "    while val2 <= val1:\n",
        "      if val2 == 0:\n",
        "        val2 += 0.0000000001\n",
        "      vls_x.append(val2)\n",
        "      vls_y.append(a/(b*val2))\n",
        "      val2 += intervalo\n",
        "    print(\"Los valores de x son: \", vls_x)\n",
        "    print(\"Los valores de y son: \", vls_y)\n",
        "  elif val1 < val2:\n",
        "    while val1 <= val2:\n",
        "      if val1 == 0:\n",
        "        val1 += 0.0000000001\n",
        "      vls_x.append(val1)\n",
        "      vls_y.append(a/(b*val1))\n",
        "      val1 += intervalo\n",
        "    print(\"Los valores de x son: \", vls_x)\n",
        "    print(\"Los valores de y son: \", vls_y)\n",
        "  plt.plot(vls_x, vls_y)\n",
        "  plt.savefig('racional.png')\n",
        "  plt.show()"
      ]
    },
    {
      "cell_type": "markdown",
      "metadata": {
        "id": "G6zyN1LfGW6V"
      },
      "source": [
        "###Bloque de decisión"
      ]
    },
    {
      "cell_type": "code",
      "execution_count": null,
      "metadata": {
        "colab": {
          "background_save": true,
          "base_uri": "https://localhost:8080/"
        },
        "id": "4FrHmliSGDTb",
        "outputId": "c24e349f-e5d5-4fec-f0de-b2f1e265e537"
      },
      "outputs": [
        {
          "name": "stdout",
          "output_type": "stream",
          "text": [
            "La función lineal cumple con la ecuación general:\n",
            "f(x) = mx + b\n",
            "\n"
          ]
        },
        {
          "ename": "KeyboardInterrupt",
          "evalue": "Interrupted by user",
          "output_type": "error",
          "traceback": [
            "\u001b[0;31m---------------------------------------------------------------------------\u001b[0m",
            "\u001b[0;31mKeyboardInterrupt\u001b[0m                         Traceback (most recent call last)",
            "\u001b[0;32m<ipython-input-9-8eefb144f201>\u001b[0m in \u001b[0;36m<cell line: 2>\u001b[0;34m()\u001b[0m\n\u001b[1;32m      1\u001b[0m \u001b[0;31m#Bloque de decisión\u001b[0m\u001b[0;34m\u001b[0m\u001b[0;34m\u001b[0m\u001b[0m\n\u001b[1;32m      2\u001b[0m \u001b[0;32mif\u001b[0m \u001b[0mtipo_funcion\u001b[0m \u001b[0;34m==\u001b[0m \u001b[0;36m1\u001b[0m\u001b[0;34m:\u001b[0m\u001b[0;34m\u001b[0m\u001b[0;34m\u001b[0m\u001b[0m\n\u001b[0;32m----> 3\u001b[0;31m   \u001b[0mfunc_lin\u001b[0m\u001b[0;34m(\u001b[0m\u001b[0;34m)\u001b[0m\u001b[0;34m\u001b[0m\u001b[0;34m\u001b[0m\u001b[0m\n\u001b[0m\u001b[1;32m      4\u001b[0m \u001b[0;32melif\u001b[0m \u001b[0mtipo_funcion\u001b[0m \u001b[0;34m==\u001b[0m \u001b[0;36m2\u001b[0m\u001b[0;34m:\u001b[0m\u001b[0;34m\u001b[0m\u001b[0;34m\u001b[0m\u001b[0m\n\u001b[1;32m      5\u001b[0m   \u001b[0mfunc_cua\u001b[0m\u001b[0;34m(\u001b[0m\u001b[0;34m)\u001b[0m\u001b[0;34m\u001b[0m\u001b[0;34m\u001b[0m\u001b[0m\n",
            "\u001b[0;32m<ipython-input-2-95992b355b45>\u001b[0m in \u001b[0;36mfunc_lin\u001b[0;34m()\u001b[0m\n\u001b[1;32m      6\u001b[0m \u001b[0;34m\u001b[0m\u001b[0m\n\u001b[1;32m      7\u001b[0m   \u001b[0mprint\u001b[0m\u001b[0;34m(\u001b[0m\u001b[0;34m\"La función lineal cumple con la ecuación general:\\nf(x) = mx + b\\n\"\u001b[0m\u001b[0;34m)\u001b[0m\u001b[0;34m\u001b[0m\u001b[0;34m\u001b[0m\u001b[0m\n\u001b[0;32m----> 8\u001b[0;31m   \u001b[0mm\u001b[0m \u001b[0;34m=\u001b[0m \u001b[0mfloat\u001b[0m\u001b[0;34m(\u001b[0m\u001b[0minput\u001b[0m\u001b[0;34m(\u001b[0m\u001b[0;34m\"Ingrese el valor de m: \"\u001b[0m\u001b[0;34m)\u001b[0m\u001b[0;34m)\u001b[0m\u001b[0;34m\u001b[0m\u001b[0;34m\u001b[0m\u001b[0m\n\u001b[0m\u001b[1;32m      9\u001b[0m   \u001b[0mb\u001b[0m \u001b[0;34m=\u001b[0m \u001b[0mfloat\u001b[0m\u001b[0;34m(\u001b[0m\u001b[0minput\u001b[0m\u001b[0;34m(\u001b[0m\u001b[0;34m\"Ingrese el valor de b: \"\u001b[0m\u001b[0;34m)\u001b[0m\u001b[0;34m)\u001b[0m\u001b[0;34m\u001b[0m\u001b[0;34m\u001b[0m\u001b[0m\n\u001b[1;32m     10\u001b[0m   \u001b[0mprint\u001b[0m\u001b[0;34m(\u001b[0m\u001b[0;34m\"\\nLa función lineal es:\\nf(x) = \"\u001b[0m\u001b[0;34m,\u001b[0m\u001b[0mm\u001b[0m\u001b[0;34m,\u001b[0m\u001b[0;34m\"x + \"\u001b[0m\u001b[0;34m,\u001b[0m\u001b[0mb\u001b[0m\u001b[0;34m)\u001b[0m\u001b[0;34m\u001b[0m\u001b[0;34m\u001b[0m\u001b[0m\n",
            "\u001b[0;32m/usr/local/lib/python3.10/dist-packages/ipykernel/kernelbase.py\u001b[0m in \u001b[0;36mraw_input\u001b[0;34m(self, prompt)\u001b[0m\n\u001b[1;32m    849\u001b[0m                 \u001b[0;34m\"raw_input was called, but this frontend does not support input requests.\"\u001b[0m\u001b[0;34m\u001b[0m\u001b[0;34m\u001b[0m\u001b[0m\n\u001b[1;32m    850\u001b[0m             )\n\u001b[0;32m--> 851\u001b[0;31m         return self._input_request(str(prompt),\n\u001b[0m\u001b[1;32m    852\u001b[0m             \u001b[0mself\u001b[0m\u001b[0;34m.\u001b[0m\u001b[0m_parent_ident\u001b[0m\u001b[0;34m,\u001b[0m\u001b[0;34m\u001b[0m\u001b[0;34m\u001b[0m\u001b[0m\n\u001b[1;32m    853\u001b[0m             \u001b[0mself\u001b[0m\u001b[0;34m.\u001b[0m\u001b[0m_parent_header\u001b[0m\u001b[0;34m,\u001b[0m\u001b[0;34m\u001b[0m\u001b[0;34m\u001b[0m\u001b[0m\n",
            "\u001b[0;32m/usr/local/lib/python3.10/dist-packages/ipykernel/kernelbase.py\u001b[0m in \u001b[0;36m_input_request\u001b[0;34m(self, prompt, ident, parent, password)\u001b[0m\n\u001b[1;32m    893\u001b[0m             \u001b[0;32mexcept\u001b[0m \u001b[0mKeyboardInterrupt\u001b[0m\u001b[0;34m:\u001b[0m\u001b[0;34m\u001b[0m\u001b[0;34m\u001b[0m\u001b[0m\n\u001b[1;32m    894\u001b[0m                 \u001b[0;31m# re-raise KeyboardInterrupt, to truncate traceback\u001b[0m\u001b[0;34m\u001b[0m\u001b[0;34m\u001b[0m\u001b[0m\n\u001b[0;32m--> 895\u001b[0;31m                 \u001b[0;32mraise\u001b[0m \u001b[0mKeyboardInterrupt\u001b[0m\u001b[0;34m(\u001b[0m\u001b[0;34m\"Interrupted by user\"\u001b[0m\u001b[0;34m)\u001b[0m \u001b[0;32mfrom\u001b[0m \u001b[0;32mNone\u001b[0m\u001b[0;34m\u001b[0m\u001b[0;34m\u001b[0m\u001b[0m\n\u001b[0m\u001b[1;32m    896\u001b[0m             \u001b[0;32mexcept\u001b[0m \u001b[0mException\u001b[0m \u001b[0;32mas\u001b[0m \u001b[0me\u001b[0m\u001b[0;34m:\u001b[0m\u001b[0;34m\u001b[0m\u001b[0;34m\u001b[0m\u001b[0m\n\u001b[1;32m    897\u001b[0m                 \u001b[0mself\u001b[0m\u001b[0;34m.\u001b[0m\u001b[0mlog\u001b[0m\u001b[0;34m.\u001b[0m\u001b[0mwarning\u001b[0m\u001b[0;34m(\u001b[0m\u001b[0;34m\"Invalid Message:\"\u001b[0m\u001b[0;34m,\u001b[0m \u001b[0mexc_info\u001b[0m\u001b[0;34m=\u001b[0m\u001b[0;32mTrue\u001b[0m\u001b[0;34m)\u001b[0m\u001b[0;34m\u001b[0m\u001b[0;34m\u001b[0m\u001b[0m\n",
            "\u001b[0;31mKeyboardInterrupt\u001b[0m: Interrupted by user"
          ]
        }
      ],
      "source": [
        "#Bloque de decisión\n",
        "if tipo_funcion == 1:\n",
        "  func_lin()\n",
        "elif tipo_funcion == 2:\n",
        "  func_cua()\n",
        "elif tipo_funcion == 3:\n",
        "  func_cubi()\n",
        "elif tipo_funcion == 4:\n",
        "  func_exp()\n",
        "elif tipo_funcion == 5:\n",
        "  func_log()\n",
        "elif tipo_funcion == 6:\n",
        "  func_rac()\n",
        "elif tipo_funcion == 7:\n",
        "  func_raiz()"
      ]
    }
  ],
  "metadata": {
    "colab": {
      "collapsed_sections": [
        "6qeGPitvGjoO",
        "kOMcDWuqGeQN",
        "lT_rnlp1GrNI",
        "IY9LG9X9I89N",
        "mKxfo0RxLJkw",
        "UZt-d7xtSYjZ",
        "edjV0OX7Q07M"
      ],
      "provenance": []
    },
    "kernelspec": {
      "display_name": "Python 3",
      "name": "python3"
    },
    "language_info": {
      "name": "python"
    }
  },
  "nbformat": 4,
  "nbformat_minor": 0
}